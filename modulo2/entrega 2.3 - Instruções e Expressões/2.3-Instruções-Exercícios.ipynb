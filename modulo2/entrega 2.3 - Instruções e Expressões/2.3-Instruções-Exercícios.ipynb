{
 "cells": [
  {
   "cell_type": "markdown",
   "metadata": {
    "id": "1pCTdOHonv5f"
   },
   "source": [
    "# Módulo 2\n",
    "\n",
    "## 2.3 Instruções e Expressões\n",
    "\n",
    "### Q1\n",
    "\n",
    "Faça um programa que armazene o valor de 20 reais de salário por hora de um trabalhador, e o número de 40 horas trabalhadas na semana. Com essas informações, calcule e imprima:\n",
    "- Salário semanal bruto\n",
    "- Valor descontado por semana INSS (10% do bruto)\n",
    "- Valor descontado por semana pelo sindicato (5% do bruto)\n",
    "- Salário semanal líquido (Bruto - Descontos)"
   ]
  },
  {
   "cell_type": "code",
   "execution_count": 4,
   "metadata": {
    "id": "hVbX0I97nj6M"
   },
   "outputs": [
    {
     "name": "stdout",
     "output_type": "stream",
     "text": [
      "O salário semanal bruto deste trabalhador é de: R$800\n",
      "Total de descontos do INSS: R$80\n",
      "Total de descontos do sindicato: R$40\n",
      "O salário semanal líquido deste trabalhador é de: R$680\n"
     ]
    }
   ],
   "source": [
    "## Escreva e execute seu código aqui\n",
    "salario_hora=20\n",
    "horas_trabalhadas_sem=40\n",
    "\n",
    "# SALÁRIO MENSAL BRUTO\n",
    "salario_semanal=salario_hora*horas_trabalhadas_sem\n",
    "print(f\"O salário semanal bruto deste trabalhador é de: R${salario_semanal}\")\n",
    "\n",
    "# VALOR DESCONTADO POR SEMANA DO INSS\n",
    "desc_inss=salario_semanal*0.1\n",
    "print(f\"Total de descontos do INSS: R${round (desc_inss)}\")\n",
    "\n",
    "# VALOR DESCONTADO POR SEMANA DO SINDICATO\n",
    "desc_sind=(salario_semanal*0.05)\n",
    "print(f\"Total de descontos do sindicato: R${round (desc_sind)}\")\n",
    "\n",
    "# SALÁRIO SEMANAL LIQUIDO\n",
    "salario_liquido=(salario_semanal-desc_inss-desc_sind)\n",
    "print(f\"O salário semanal líquido deste trabalhador é de: R${round (salario_liquido)}\")"
   ]
  },
  {
   "cell_type": "markdown",
   "metadata": {
    "id": "pIxKX9J2oGZ1"
   },
   "source": [
    "### Q2\n",
    "\n",
    "Altere o programa anterior para a partir dos valores de horas trabalhadas por semana e salário por hora, calcular **em somente duas instruções**:\n",
    "- Salário semanal bruto\n",
    "- Salário semanal líquido com todos os descontos. Para a segunda instrução, realize todos os cálculos aritméticos em uma expressão composta.\n"
   ]
  },
  {
   "cell_type": "code",
   "execution_count": 5,
   "metadata": {
    "id": "pAHw9Xf9oGoi"
   },
   "outputs": [
    {
     "name": "stdout",
     "output_type": "stream",
     "text": [
      "O salário bruto é de: R$800\n",
      "O salário líquido é de: R$680\n"
     ]
    }
   ],
   "source": [
    "## Escreva e execute seu código aqui\n",
    "salario_hora=20\n",
    "horas_trabalhadas_sem=40\n",
    "\n",
    "# Salario semanal bruto\n",
    "salario_bruto=salario_hora*horas_trabalhadas_sem\n",
    "print(f\"O salário bruto é de: R${salario_bruto}\")\n",
    "\n",
    "# Salario semanal liquido\n",
    "salario_liquido=(salario_hora*horas_trabalhadas_sem)*(1-0.1-0.05)\n",
    "print(f\"O salário líquido é de: R${round (salario_liquido)}\")\n",
    "\n",
    "\n"
   ]
  },
  {
   "cell_type": "markdown",
   "metadata": {
    "id": "m8tlHRuWpBOB"
   },
   "source": [
    "### Q3\n",
    "\n",
    "Você está desenvolvendo um software de conversão de moeda e precisa calcular o valor equivalente em yuan chinês a partir de uma quantia em real. A taxa de câmbio é de 0.69 BRL (real) para 1 CNY (yuan). Escreva um programa que define em uma variável uma quantia em reais (BRL) e calcula o valor equivalente em yuan (CNY). Imprima o resultado."
   ]
  },
  {
   "cell_type": "code",
   "execution_count": 6,
   "metadata": {
    "id": "2bPw7uF6oeL9"
   },
   "outputs": [
    {
     "name": "stdout",
     "output_type": "stream",
     "text": [
      "R$1 reais equivalem hoje a ¥0.69 yuans\n"
     ]
    }
   ],
   "source": [
    "## Escreva e execute seu código aqui\n",
    "real=1\n",
    "taxa_cambio=0.69\n",
    "\n",
    "conversao_yuan=(real*taxa_cambio)\n",
    "print(f\"R${real} reais equivalem hoje a ¥{conversao_yuan} yuans\")"
   ]
  },
  {
   "cell_type": "markdown",
   "metadata": {
    "id": "-Na3ltDCp74A"
   },
   "source": [
    "### Q4\n",
    "\n",
    "Você é um treinador de corrida e deseja calcular a velocidade média que um atleta precisa manter para completar a Maratona Internacional de São Silvestre, que tem uma distância total de 42.195 km. A fórmula para calcular a velocidade média ($v\\_media$) é dada por $v\\_media = \\frac{distancia}{tempo}$ . Escreva um programa em Python para calcular a velocidade média necessária para completar a maratona em 3 horas.\n",
    "\n",
    "**Calcule e imprima o resultado em metros/segundo**, ou seja, converta a distância de quilômetros para metros ($metro = \\frac{km}{1000}$) e a velocidade de horas para segundos $(segundo = \\frac{hora}{3600})$."
   ]
  },
  {
   "cell_type": "code",
   "execution_count": 7,
   "metadata": {
    "id": "Bn6l8kcSrE4L"
   },
   "outputs": [
    {
     "name": "stdout",
     "output_type": "stream",
     "text": [
      "A velocidade média do atleta treinado é de  3.91m/s.\n"
     ]
    }
   ],
   "source": [
    "## Escreva e execute seu código aqui\n",
    "distancia_km=42.195\n",
    "tempo_necessario_horas=3\n",
    "\n",
    "# convertendo\n",
    "distancia_m=distancia_km*1000\n",
    "tempo_necessario_segundos=tempo_necessario_horas*3600\n",
    "\n",
    "# resultado\n",
    "v_media=distancia_m/tempo_necessario_segundos\n",
    "print(f\"A velocidade média do atleta treinado é de {v_media: .2f}m/s.\")\n",
    "\n"
   ]
  },
  {
   "cell_type": "code",
   "execution_count": null,
   "metadata": {},
   "outputs": [],
   "source": []
  }
 ],
 "metadata": {
  "colab": {
   "provenance": []
  },
  "kernelspec": {
   "display_name": "Python 3 (ipykernel)",
   "language": "python",
   "name": "python3"
  },
  "language_info": {
   "codemirror_mode": {
    "name": "ipython",
    "version": 3
   },
   "file_extension": ".py",
   "mimetype": "text/x-python",
   "name": "python",
   "nbconvert_exporter": "python",
   "pygments_lexer": "ipython3",
   "version": "3.12.1"
  }
 },
 "nbformat": 4,
 "nbformat_minor": 4
}
