{
 "cells": [
  {
   "cell_type": "markdown",
   "id": "559687a1",
   "metadata": {},
   "source": [
    "# Módulo 3 - Condicionais\n",
    "\n",
    "## 3.5 - Decisões Múltiplas"
   ]
  },
  {
   "cell_type": "markdown",
   "id": "42f823b3",
   "metadata": {},
   "source": [
    "### Q1.\n",
    "\n",
    "Vamos fazer uma calculadora! Escreva um programa que solicita 3 entradas: o primeiro operando (float), o operador (caracter) e o segundo operando (float). Seu programa deve imprimir o resultado da operação solicitada, entre soma (+), subtração (-), divisão (/), multiplicação (\\*) ou potência (\\*\\*). Seu programa também deve imprimir uma mensagem de erro se a operação solicitada não estiver dentre as opções disponíveis.\n",
    "\n",
    "Seguem alguns exemplos de interação com seu código no terminal. \n",
    "\n",
    "\n",
    "```\n",
    "Digite o primeiro operando: 5.2\n",
    "Digite o operador (+, -, /, *, **): *\n",
    "Digite o segundo operando` 3\n",
    "Resultado: 5.2 * 3.0 = 15.6\n",
    "```\n",
    "\n",
    "```\n",
    "Digite o primeiro operando: 8\n",
    "Digite o operador (+, -, /, *, **): **\n",
    "Digite o segundo operando: 2\n",
    "Resultado: 8.0 * 2.0 = 64.0\n",
    "```\n",
    "\n",
    "```\n",
    "Digite o primeiro operando: 7\n",
    "Digite o operador (+, -, /, *, **): %\n",
    "Digite o segundo operando: 3.4\n",
    "Erro! Operação inválida. \n",
    "```\n",
    "\n",
    "```\n",
    "Digite o primeiro operando: 10\n",
    "Digite o operador (+, -, /, *, **): /\n",
    "Digite o segundo operando: 2.5\n",
    "Resultado: 10.0 / 2.5 = 4.0\n",
    "```\n",
    "\n"
   ]
  },
  {
   "cell_type": "code",
   "execution_count": 9,
   "id": "c5b8cd4d",
   "metadata": {},
   "outputs": [
    {
     "name": "stdin",
     "output_type": "stream",
     "text": [
      "Digite o primeiro operando:  1\n",
      "Digite o operador (+,-,/,*,**):  +\n",
      "Digite o segundo operando:  1\n"
     ]
    },
    {
     "name": "stdout",
     "output_type": "stream",
     "text": [
      "2.0\n"
     ]
    }
   ],
   "source": [
    "## Escreva e execute seu código aqui\n",
    "### PASSO 1- CRIANDO AS VARIÁVEIS DA CALCULADORA ###\n",
    "operando1=float(input(\"Digite o primeiro operando: \"))\n",
    "operador=(input(\"Digite o operador (+,-,/,*,**): \"))\n",
    "operando2=float(input(\"Digite o segundo operando: \"))\n",
    "\n",
    "### PASSO 2 - CRIANDO AS VARIÁVEIS DE ACORDO COM O OPERADOR ESCOLHIDO ###\n",
    "if(operador == \"+\"):\n",
    "    resultado=(operando1+operando2)\n",
    "elif(operador == \"-\"):\n",
    "    resultado=(operando1-operando2)\n",
    "elif(operador == \"/\"):\n",
    "    if(operando2 != 0):\n",
    "        resultado=(operando1/operando2)\n",
    "    else:\n",
    "        print(\"Não é possível dividir por 0!\")\n",
    "        resultado=None\n",
    "elif(operador == \"*\"):\n",
    "    resultado=(operando1*operando2)\n",
    "elif(operador == \"**\"):\n",
    "    resultado=(operando1**operando2)\n",
    "else:\n",
    "    resultado=None\n",
    "    print(\"Resultado inválido!\")\n",
    "### PASSO 3 - IMPRIMINDO O RESULTADO ###\n",
    "if(resultado != None):\n",
    "    print(resultado)"
   ]
  },
  {
   "cell_type": "markdown",
   "id": "d135df39",
   "metadata": {},
   "source": [
    "### Q2.\n",
    "\n",
    "Escreva um programa que leia os comprimentos dos 3 lados de um triângulo e diga se o triângulo é equilátero, isóceles ou escaleno. Regras:\n",
    "- Isóceles: Quaisquer dois lados com o mesmo comprimento\n",
    "- Equilátero: Os três lados tem o mesmo comprimento\n",
    "- Escaleno: Três lados de comprimento diferente \n",
    "\n",
    "Note que a ordem das condições importa! Seguem alguns exemplos de interação com seu código no terminal. \n",
    "\n",
    "```\n",
    "Digite o comprimento do lado 1: 4\n",
    "Digite o comprimento do lado 2: 4\n",
    "Digite o comprimento do lado 3: 6\n",
    "Triângulo: Isóceles\n",
    "```\n",
    "\n",
    "```\n",
    "Digite o comprimento do lado 1: 5\n",
    "Digite o comprimento do lado 2: 5\n",
    "Digite o comprimento do lado 3: 5\n",
    "Triângulo: Equilátero\n",
    "```\n",
    "\n",
    "```\n",
    "Digite o comprimento do lado 1: 7\n",
    "Digite o comprimento do lado 2: 4\n",
    "Digite o comprimento do lado 3: 9\n",
    "Triângulo: Escaleno\n",
    "```\n",
    "\n"
   ]
  },
  {
   "cell_type": "code",
   "execution_count": 8,
   "id": "cfcf9a80",
   "metadata": {},
   "outputs": [
    {
     "name": "stdin",
     "output_type": "stream",
     "text": [
      "Digite o comprimento do lado 1:  7\n",
      "Digite o comprimento do lado 2:  4\n",
      "Digite o comprimento do lado 3:  9\n"
     ]
    },
    {
     "name": "stdout",
     "output_type": "stream",
     "text": [
      "Triângulo Escaleno\n"
     ]
    }
   ],
   "source": [
    "### PASSO 1 - CRIANDO VARIÁVEIS ###\n",
    "lado1=float(input(\"Digite o comprimento do lado 1: \"))\n",
    "lado2=float(input(\"Digite o comprimento do lado 2: \"))\n",
    "lado3=float(input(\"Digite o comprimento do lado 3: \"))\n",
    "\n",
    "### PASSO 2 - LÓGICA DOS TRIÂNGULOS ###\n",
    "if( lado1==lado2==lado3):\n",
    "    print(\"Triângulo Equilátero\")\n",
    "elif( lado1 != lado2 != lado3):\n",
    "    print(\"Triângulo Escaleno\")\n",
    "elif(lado1 == lado2) or (lado1 == lado3) or (lado2 == lado3):\n",
    "    print(\"Triângulo Isóceles\")\n",
    "else:\n",
    "    print(\"Não foi possível chegar ao resultado.\")"
   ]
  },
  {
   "cell_type": "markdown",
   "id": "ed3405fb",
   "metadata": {},
   "source": [
    "### Q3.\n",
    "\n",
    "Você está desenvolvendo um sistema de avaliação de desempenho para um jogo. Escreva um programa em Python que avalia a pontuação do jogador em uma missão e atribui uma classificação com base nas seguintes condições:\n",
    "\n",
    "- Se a pontuação for menor que 70, atribua a classificação \"Insatisfatório\".\n",
    "- Se a pontuação for maior ou igual a 70, atribua a classificação \"Regular\".\n",
    "- Se a pontuação for maior ou igual a 80, atribua a classificação \"Bom\".\n",
    "- Se a pontuação for maior ou igual a 90, atribua a classificação \"Excelente\".\n",
    "\n",
    "Escreva um programa que solicita ao usuário a pontuação e imprime a classificação correspondente."
   ]
  },
  {
   "cell_type": "code",
   "execution_count": 15,
   "id": "a7a842ae",
   "metadata": {},
   "outputs": [
    {
     "name": "stdin",
     "output_type": "stream",
     "text": [
      "A pontuação do jogador foi:  90\n"
     ]
    },
    {
     "name": "stdout",
     "output_type": "stream",
     "text": [
      "Excelente\n"
     ]
    }
   ],
   "source": [
    "## Escreva e execute seu código aqui\n",
    "### PASSO 1 - VARIÁVEL DE PONTUAÇÃO ###\n",
    "points=float(input(\"A pontuação do jogador foi: \"))\n",
    "\n",
    "### PASSO 2 - LÓGICA CONDICIONAL DAS PONTUAÇÕES\n",
    "if(points >= 90):\n",
    "    print(\"Excelente\")\n",
    "elif(points >= 80):\n",
    "    print(\"Bom\")\n",
    "elif(points >= 70):\n",
    "    print(\"Regular\")\n",
    "else:\n",
    "    print(\"Insatisfatório\")\n"
   ]
  },
  {
   "cell_type": "markdown",
   "id": "6cafaa50",
   "metadata": {},
   "source": [
    "### Q4.\n",
    "\n",
    "Você está implementando um sistema de desconto em uma loja online. Escreva um programa em Python que calcula o desconto com base no valor total da compra e atribui diferentes níveis de desconto de acordo com as seguintes condições:\n",
    "\n",
    "- Se o valor total da compra for menor que R\\$ 50, não há desconto.\n",
    "- Se o valor total da compra for maior ou igual a R\\$ 50, atribua um desconto de 10%.\n",
    "- Se o valor total da compra for maior ou igual a R\\$ 100, atribua um desconto de 20%.\n",
    "\n",
    "\n",
    "Seguem alguns exemplos de interação com seu código no terminal. Preste atenção na formatação esperada para as saídas.\n",
    "\n",
    "```\n",
    "Digite o valor total da compra: 120\n",
    "Desconto aplicado: 20.0%\n",
    "Valor final com desconto: R$96.00\n",
    "```\n",
    "\n",
    "```\n",
    "Digite o valor total da compra: 65\n",
    "Desconto aplicado: 10.0%\n",
    "Valor final com desconto: R$58.50\n",
    "```\n",
    "\n",
    "```\n",
    "Digite o valor total da compra: 40\n",
    "Desconto aplicado: 0.0%\n",
    "Valor final com desconto: R$40.00\n",
    "```\n",
    "\n",
    "\n"
   ]
  },
  {
   "cell_type": "code",
   "execution_count": 16,
   "id": "3b1b1929",
   "metadata": {},
   "outputs": [
    {
     "name": "stdin",
     "output_type": "stream",
     "text": [
      "Valor total da compra:  120\n"
     ]
    },
    {
     "name": "stdout",
     "output_type": "stream",
     "text": [
      "Desconto aplicado:  20.00%\n",
      "Valor final com desconto: R$ 96.00\n"
     ]
    }
   ],
   "source": [
    "## Escreva e execute seu código aqui\n",
    "### PASSO 1- NOMEANDO VARIÁVEIS ###\n",
    "valorCompra=float(input(\"Valor total da compra: \"))\n",
    "desconto=0\n",
    "\n",
    "### PASSO 2 - CRIANDO LÓGICA CONDICIONAL ###\n",
    "if(valorCompra >= 100):\n",
    "    desconto=0.2\n",
    "elif(valorCompra >= 50):\n",
    "    desconto=0.1\n",
    "else:\n",
    "    desconto=0\n",
    "\n",
    "### PASSO 3 - IMPRIMINDO RESULTADO ###\n",
    "print(f\"Desconto aplicado: {desconto: .2%}\")\n",
    "print(f\"Valor final com desconto: R${valorCompra*(1-desconto): ,.2f}\")\n"
   ]
  },
  {
   "cell_type": "markdown",
   "id": "dc5db6d7",
   "metadata": {},
   "source": [
    "### Q5.\n",
    "\n",
    "Você está projetando um sistema de autenticação baseado na análise da íris (parte colorida do olho). Ao acionado, o sistema coleta e retorna 3 valores inteiros referentes a atributos da íris visível. Mas o sistema não é perfeito, tendo uma margem de erro do sensor de +/- $5$. \n",
    "\n",
    "O código abaixo tem os atributos dos 4 usuários cadastrados no sistema. Você deve completar om código, pedindo ao usuário para inserir uma nova leitura de padrão de íris. O programa deve comparar o padrão inserido com os padrões cadastrados no banco de dados. Se o padrão estiver dentro da tolerância estabelecida, o usuário é autenticado com sucesso. Caso contrário, a autenticação falha.\n",
    "\n",
    "**Dica:** A função do python ```abs()``` retorna o valor absoluto de um elemento. Ex: \n",
    "```\n",
    ">>> print(abs(987-982))\n",
    "5\n",
    ">>> print(abs(987-992))\n",
    "5\n",
    "```\n",
    "\n",
    "Seguem alguns exemplos de interação com seu código no terminal.\n",
    "\n",
    "```\n",
    "Insira o padrão de íris para autenticação.\n",
    "Atributo 1: 111\n",
    "Atributo 2: 222\n",
    "Atributo 3: 333\n",
    "Autenticação bem-sucedida! \n",
    "Usuário: 3\n",
    "```\n",
    "\n",
    "```\n",
    "Insira o padrão de íris para autenticação.\n",
    "Atributo 1: 111\n",
    "Atributo 2: 200\n",
    "Atributo 3: 333\n",
    "Autenticação falhou! \n",
    "```\n",
    "\n",
    "```\n",
    "Insira o padrão de íris para autenticação.\n",
    "Atributo 1: 982\n",
    "Atributo 2: 653\n",
    "Atributo 3: 324\n",
    "Autenticação bem-sucedida! \n",
    "Usuário: 2\n",
    "```"
   ]
  },
  {
   "cell_type": "code",
   "execution_count": 17,
   "id": "b90304eb",
   "metadata": {},
   "outputs": [
    {
     "name": "stdin",
     "output_type": "stream",
     "text": [
      "Atributo 1: 111\n",
      "Atributo 2:  222\n",
      "Atributo 3:  333\n"
     ]
    },
    {
     "name": "stdout",
     "output_type": "stream",
     "text": [
      "Autenticação bem sucedida!\n",
      "Bem vindo,usuário 3!\n"
     ]
    }
   ],
   "source": [
    "## Não altere os atributos definidos a seguir\n",
    "iris1_a1, iris1_a2, iris1_a3 = 123, 456, 789\n",
    "iris2_a1, iris2_a2, iris2_a3 = 987, 654, 321\n",
    "iris3_a1, iris3_a2, iris3_a3 = 111, 222, 333\n",
    "iris4_a1, iris4_a2, iris4_a3 = 444, 555, 666\n",
    "margem_de_erro=5   ### VARIÁVEL CRIADA PARA AJUSTE DE +5 OU -5 NA LEITURA\n",
    "autenticacao= False  ### VARIÁVEL PARA PODERMOS DAR ESTADO DE BEM-SUCEDIDO OU FALHA DE AUTENTICAÇÃO\n",
    "\n",
    "### PASSO 1- REGISTRANDO ATRIBUTOS ###\n",
    "atributo1=int(input(\"Atributo 1:\"))\n",
    "atributo2=int(input(\"Atributo 2: \"))\n",
    "atributo3=int(input(\"Atributo 3: \"))\n",
    "\n",
    "### PASSO 2- CRIANDO A LOGICA DE CONDICIONAIS\n",
    "if((abs(atributo1-iris1_a1)) <= margem_de_erro and \\\n",
    "abs(atributo2-iris1_a2) <= margem_de_erro and \\\n",
    "abs(atributo3-iris1_a3) <= margem_de_erro):\n",
    "    usuario_autenticado=1\n",
    "    autenticacao=True\n",
    "elif((abs(atributo1-iris2_a1)) <= margem_de_erro and \\\n",
    "abs(atributo2-iris2_a2) <= margem_de_erro and \\\n",
    "abs(atributo3-iris2_a3) <= margem_de_erro):\n",
    "    usuario_autenticado=2\n",
    "    autenticacao=True\n",
    "elif((abs(atributo1-iris3_a1)) <= margem_de_erro and \\\n",
    "abs(atributo2-iris3_a2) <= margem_de_erro and \\\n",
    "abs(atributo3-iris3_a3) <= margem_de_erro ):\n",
    "    usuario_autenticado=3\n",
    "    autenticacao=True\n",
    "elif((abs(atributo1-iris4_a1)) <= margem_de_erro and \\\n",
    "abs(atributo2-iris4_a2) <= margem_de_erro and \\\n",
    "abs(atributo3-iris4_a3) <= margem_de_erro):\n",
    "    usuario_autenticado=4\n",
    "    autenticacao=True\n",
    "\n",
    "### PASSO 3 - IMPRIMINDO IF SE VERIFICADO E ELSE SE NÃO VERIFICADO\n",
    "if(autenticacao==True):\n",
    "    print(\"Autenticação bem sucedida!\")\n",
    "    print(f\"Bem vindo,usuário {usuario_autenticado}!\")\n",
    "else:\n",
    "    print(\"Autenticação falhou!\")\n"
   ]
  },
  {
   "cell_type": "code",
   "execution_count": null,
   "id": "a61fb42f-3fa6-4c97-9d7e-10384052bece",
   "metadata": {},
   "outputs": [],
   "source": []
  }
 ],
 "metadata": {
  "kernelspec": {
   "display_name": "Python 3 (ipykernel)",
   "language": "python",
   "name": "python3"
  },
  "language_info": {
   "codemirror_mode": {
    "name": "ipython",
    "version": 3
   },
   "file_extension": ".py",
   "mimetype": "text/x-python",
   "name": "python",
   "nbconvert_exporter": "python",
   "pygments_lexer": "ipython3",
   "version": "3.12.1"
  }
 },
 "nbformat": 4,
 "nbformat_minor": 5
}
