{
 "cells": [
  {
   "cell_type": "markdown",
   "id": "29e89030",
   "metadata": {},
   "source": [
    "# Módulo 4 - Repetições\n",
    "\n",
    "## Aulas 4.2 - Comando ```for``` e 4.3 Break e Continue"
   ]
  },
  {
   "cell_type": "markdown",
   "id": "a45b42df",
   "metadata": {},
   "source": [
    "### Q1.\n",
    "\n",
    "Crie um programa em Python que utilize o comando for para imprimir os números de 10 a 1, em ordem decrescente."
   ]
  },
  {
   "cell_type": "code",
   "execution_count": 1,
   "id": "55a75b3d",
   "metadata": {},
   "outputs": [
    {
     "name": "stdout",
     "output_type": "stream",
     "text": [
      "10\n",
      "9\n",
      "8\n",
      "7\n",
      "6\n",
      "5\n",
      "4\n",
      "3\n",
      "2\n",
      "1\n"
     ]
    }
   ],
   "source": [
    "## Escreva e execute seu código aqui\n",
    "for i in range(10,0,-1):\n",
    "    print(i)"
   ]
  },
  {
   "cell_type": "markdown",
   "id": "94b47c36",
   "metadata": {},
   "source": [
    "### Q2.\n",
    "\n",
    "Dado um número inteiro positivo informado pelo usuário, crie um programa em Python que utilize o comando for para calcular e exibir a soma dos números de 1 até o número informado. Ou seja, $1 + 2 + 3 + ... + n$\n",
    "\n",
    "Exemplo de interação:\n",
    "```\n",
    "Digite um número: 5\n",
    "A soma dos números de 1 a 5 é 15\n",
    "```\n"
   ]
  },
  {
   "cell_type": "code",
   "execution_count": 2,
   "id": "45b71596",
   "metadata": {},
   "outputs": [
    {
     "name": "stdin",
     "output_type": "stream",
     "text": [
      "Digite um número positivo:  5\n"
     ]
    },
    {
     "name": "stdout",
     "output_type": "stream",
     "text": [
      "A soma dos numeros de 1 a 5 é 15. \n"
     ]
    }
   ],
   "source": [
    "## Escreva e execute seu código aqui\n",
    "### PASSO 1 - DEFINIR N E CRIAR VARIÁVEL QUE DARÁ A SOMA TOTAL ###\n",
    "n=int(input(\"Digite um número positivo: \"))\n",
    "soma=0\n",
    "\n",
    "### PASSO 2 - UTILIZAR DE FOR, IN E RANGE PARA REALIZAR A SOMA COM INCREMENTAÇÃO onde range([inicio, fim, pulo])\n",
    "for i in range(1,n+1):\n",
    "    soma += i\n",
    "\n",
    "### PASSO 3 - IMPRESSÃO DO CALCULO\n",
    "print(f\"A soma dos numeros de 1 a {n} é {soma}. \")"
   ]
  },
  {
   "cell_type": "markdown",
   "id": "0411d170",
   "metadata": {},
   "source": [
    "### Q3.\n",
    "\n",
    "Escreva um programa que lê 10 valores inteiros positivos do usuário e ao final imprime a média dos valores digitados com duas casas decimais.\n",
    "\n",
    "```\n",
    "Digite 10 números positivos:\n",
    "3\n",
    "2\n",
    "12\n",
    "14\n",
    "20\n",
    "42\n",
    "19\n",
    "0\n",
    "8\n",
    "1\n",
    "A média dos valores digitados é 12.10\n",
    "```"
   ]
  },
  {
   "cell_type": "code",
   "execution_count": 5,
   "id": "3f72f358",
   "metadata": {},
   "outputs": [
    {
     "name": "stdin",
     "output_type": "stream",
     "text": [
      "Digite o 1o número positivo. 3\n",
      "Digite o 2o número positivo. 2\n",
      "Digite o 3o número positivo. 12\n",
      "Digite o 4o número positivo. 14\n",
      "Digite o 5o número positivo. 20\n",
      "Digite o 6o número positivo. 42\n",
      "Digite o 7o número positivo. 19\n",
      "Digite o 8o número positivo. 0\n",
      "Digite o 9o número positivo. 8\n",
      "Digite o 10o número positivo. 1\n"
     ]
    },
    {
     "name": "stdout",
     "output_type": "stream",
     "text": [
      "A média dos valores digitados é  12.10\n"
     ]
    }
   ],
   "source": [
    "### PASSO 1 - CRIAR VARIÁVEIS E DENOMINÁ-LAS 0 PARA INICIAR SEM NADA ###\n",
    "media=0\n",
    "contador=0\n",
    "\n",
    "### PASSO 2 -  CRIAR A ITERAÇÃO E LÓGICA POR TRÁS DO CONTADOR ###\n",
    "while(contador<10):\n",
    "    n=(float(input(f\"Digite o {contador+1}o número positivo.\")))\n",
    "    if (n >= 0):\n",
    "        media += n\n",
    "        contador += 1\n",
    "    else:\n",
    "        print(\"Número inválido. Digite um número positivo!\")\n",
    "\n",
    "resultado=(media/10)\n",
    "\n",
    "### PASSO 3 - PRINTAR O RESULTADO ###\n",
    "print(f\"A média dos valores digitados é {resultado: .2f}\")"
   ]
  },
  {
   "cell_type": "markdown",
   "id": "d62e27ff",
   "metadata": {},
   "source": [
    "### Q4.\n",
    "\n",
    "Você vai criar um sistema que registra os resultados dos jogos do Atlético MG ao longo de um campeonato. Seu sistema vai receber os resultados de todos os jogos do Galo, e deve calcular a pontuação do time sabendo que vitórias valem 3 pontos, empates 1 ponto e derrotas 0 pontos.\n",
    "\n",
    "Entrada: <br>\n",
    "A primeira linha de entrada é um inteiro N com a quantidade jogos do galo. Para cada jogo você deve ler 2 inteiros, o primeiro com a quantidade de gols do galo e o segundo com a quantidade de gols do time oponente. \n",
    "\n",
    "Saída: <br>\n",
    "Apresente a soma de vitórias, empates e derrotas do galo, junto com o cálculo da pontuação total.\n",
    "\n",
    "Ex:\n",
    "```\n",
    "Entrada:\n",
    "4\n",
    "2\n",
    "0\n",
    "1\n",
    "1\n",
    "0\n",
    "3\n",
    "1\n",
    "0\n",
    "\n",
    "Saída:\n",
    "Vitórias: 2\n",
    "Empates: 1\n",
    "Derrotas: 1\n",
    "Pontuação: 7\n",
    "\n",
    "```\n",
    "\n",
    "\n"
   ]
  },
  {
   "cell_type": "code",
   "execution_count": 8,
   "id": "d3fdfc2a",
   "metadata": {},
   "outputs": [
    {
     "name": "stdin",
     "output_type": "stream",
     "text": [
      "Digite o total de jogos do Atlético-MG a serem computados:  -1\n"
     ]
    },
    {
     "name": "stdout",
     "output_type": "stream",
     "text": [
      "Vitórias: 0\n",
      "Empates: 0\n",
      "Derrotas: 0\n",
      "Pontuação: 0\n"
     ]
    }
   ],
   "source": [
    "### PASSO 1 - CRIANDO AS VARIÁVEIS E COLOCANDO ELAS EM ESTADO INICIAL 0 ###\n",
    "totalJogos=int(input(\"Digite o total de jogos do Atlético-MG a serem computados: \"))\n",
    "totalVitorias=0\n",
    "totalDerrotas=0\n",
    "totalEmpates=0\n",
    "pontuacao=0\n",
    "contador=0\n",
    "\n",
    "### PASSO 2- DESENVOLVENDO A LOGICA UTILIZANDO WHILE E CONDICIONAIS ###\n",
    "while(contador<totalJogos):\n",
    "    golsGalo=(int(input(\"Quantos gols o Galo marcou? \")))\n",
    "    golsAdversario=(int(input(\"Quantos gols o time adversário marcou? \")))\n",
    "\n",
    "    if(golsGalo >= 0 and golsAdversario >= 0):\n",
    "        contador += 1\n",
    "        \n",
    "        if(golsGalo>golsAdversario):\n",
    "            totalVitorias += 1\n",
    "            pontuacao += 3\n",
    "        elif(golsGalo<golsAdversario):\n",
    "            totalDerrotas += 1\n",
    "            pontuacao += 0\n",
    "        elif(golsGalo == golsAdversario):\n",
    "            totalEmpates += 1\n",
    "            pontuacao += 1\n",
    "    else:\n",
    "        print(\"Valor inválido. Insira novamente.\")\n",
    "else:\n",
    "    print(\"Número inválido. Digite um número positivo!\")\n",
    "### PASSO 3 - IMPRIMIR TOTAIS ###\n",
    "print(f\"Vitórias: {totalVitorias}\")\n",
    "print(f\"Empates: {totalEmpates}\")\n",
    "print(f\"Derrotas: {totalDerrotas}\")\n",
    "print(f\"Pontuação: {pontuacao}\")"
   ]
  },
  {
   "cell_type": "markdown",
   "id": "fc98604d",
   "metadata": {},
   "source": [
    "### Q5.\n",
    "\n",
    "Faça um programa que lê dois inteiros N e M, e imprime na tela um campo de batalha naval. O tabuleiro deve possuir N linhas e M colunas. A primeira linha é composta por um espaço em branco e o cabeçalho das colunas, ou seja, valores de 1 a M. As N linhas seguintes iniciam com o cabeçalho da linha, ou seja, seu número, seguido de M caracteres \"/\" (barra) indicando uma possível posição jogável. \n",
    "\n",
    "```\n",
    "Entrada:\n",
    "5\n",
    "4\n",
    "\n",
    "Saída:\n",
    "  1 2 3 4 \n",
    "1 / / / / \n",
    "2 / / / / \n",
    "3 / / / / \n",
    "4 / / / / \n",
    "5 / / / / \n",
    "```\n",
    "\n",
    "Para esse exercício, precisamos lembrar que o comando print implicitamente adiciona uma quebra de linha ao final da impressão. Podemos interferir no final da impressão adicionando mais uma entrada ao print. No exemplo, finalizamos cada linha com um espaço em branco:\n",
    "```python\n",
    "print(\"Texto qualquer\", end = \" \")\n",
    "```"
   ]
  },
  {
   "cell_type": "code",
   "execution_count": 9,
   "id": "a60ef197",
   "metadata": {},
   "outputs": [
    {
     "name": "stdin",
     "output_type": "stream",
     "text": [
      "Digite o número de linhas (N)  5\n",
      "Digite o número de colunas (M)  4\n"
     ]
    },
    {
     "name": "stdout",
     "output_type": "stream",
     "text": [
      "  1 2 3 4 \n",
      "1 / / / / \n",
      "2 / / / / \n",
      "3 / / / / \n",
      "4 / / / / \n",
      "5 / / / / \n"
     ]
    }
   ],
   "source": [
    "### PASSO 1 - DEFINIR N e M ###\n",
    "n=int(input(\"Digite o número de linhas (N) \"))\n",
    "m=int(input(\"Digite o número de colunas (M) \"))\n",
    "\n",
    "### PASSO 2 - REMOVER CABEÇALHO COMO PEDIDO ###\n",
    "print((\" \"),end=(\" \")) ### espaço em branco para alinhar coluna\n",
    "for coluna in range(1,m+1):\n",
    "    print(coluna,end=\" \")\n",
    "print()\n",
    "\n",
    "### PASSO 3 - IMPRIMIR TABULEIRO ###\n",
    "for linha in range(1,n+1):\n",
    "    print(linha,end=(\" \")) ### espaço em branco para alinhar linha\n",
    "    for coluna in range(1,m+1):\n",
    "        print(\"/\",end=(\" \"))\n",
    "    print()"
   ]
  },
  {
   "cell_type": "markdown",
   "id": "4654dc0b",
   "metadata": {},
   "source": [
    "---\n",
    "## Break e Continue"
   ]
  },
  {
   "cell_type": "markdown",
   "id": "24fe9d85",
   "metadata": {},
   "source": [
    "### Q6.\n",
    "\n",
    "Escreva um programa que lê uma quantidade indefinida de valores e informa o maior e o menor valor digitados. A leitura é encerrada quando o usuário digitar o valor 0 (zero).\n",
    "\n",
    "```\n",
    "Entrada:\n",
    "12\n",
    "-1\n",
    "29\n",
    "11\n",
    "-5\n",
    "0\n",
    "\n",
    "Saída:\n",
    "Maior: 29\n",
    "Menor: -5\n",
    "```"
   ]
  },
  {
   "cell_type": "code",
   "execution_count": 10,
   "id": "ee1c466a",
   "metadata": {},
   "outputs": [
    {
     "name": "stdin",
     "output_type": "stream",
     "text": [
      "Digite um número (ou 0 para sair):  12\n",
      "Digite um número (ou 0 para sair):  -1\n",
      "Digite um número (ou 0 para sair):  29\n",
      "Digite um número (ou 0 para sair):  11\n",
      "Digite um número (ou 0 para sair):  -5\n",
      "Digite um número (ou 0 para sair):  0\n"
     ]
    },
    {
     "name": "stdout",
     "output_type": "stream",
     "text": [
      "Maior: 29\n",
      "Menor: -5\n"
     ]
    }
   ],
   "source": [
    "### PASSO 1 - CRIAR AS VARIÁVEIS QUE ARMAZENARÃO ESTADO E VALOR 0 ###\n",
    "valor_var = True\n",
    "maiorValor = 0\n",
    "menorValor = 0\n",
    "\n",
    "### PASSO 2 - CRIAR A LOGICA,ITERAÇÃO E QUEBRA DO LOOP SE DIGITAR 0 ###\n",
    "while True:\n",
    "    entrada = input(\"Digite um número (ou 0 para sair): \")\n",
    "    valor = int(entrada)\n",
    "    \n",
    "    if(valor == 0):\n",
    "        break \n",
    "\n",
    "    if valor_var:\n",
    "        maiorValor = valor\n",
    "        menorValor = valor\n",
    "        valor_var = False  \n",
    "    else:\n",
    "        if valor > maiorValor:\n",
    "            maiorValor = valor\n",
    "        if valor < menorValor:\n",
    "            menorValor = valor\n",
    "\n",
    "### PASSO 3 - IMPRESSÃO DOS VALORES ###\n",
    "if not valor_var:\n",
    "    print(f\"Maior: {maiorValor}\")\n",
    "    print(f\"Menor: {menorValor}\")\n",
    "else:\n",
    "    print(\"Nenhum valor foi digitado.\")"
   ]
  },
  {
   "cell_type": "markdown",
   "id": "30d486f7",
   "metadata": {},
   "source": [
    "### Q7.\n",
    "\n",
    "Escreva um programa que lê uma quantidade indefinida de valores e informa o **produto** dos valores positivos digitados. A leitura é encerrada quando o usuário digitar o valor 0 (zero).\n",
    "\n",
    "```\n",
    "Entrada:\n",
    "2\n",
    "-1\n",
    "1\n",
    "3\n",
    "-5\n",
    "0\n",
    "\n",
    "Saída:\n",
    "Produto: 6\n",
    "```"
   ]
  },
  {
   "cell_type": "code",
   "execution_count": null,
   "id": "2f1ac324",
   "metadata": {},
   "outputs": [],
   "source": [
    "## Escreva e execute seu código aqui\n",
    "### PASSO 1 - VARIÁVEL DE ACUMULO DOS PRODUTOS ###\n",
    "positivoTotal=0\n",
    "\n",
    "### PASSO 2 -LÓGICA DA ITERAÇÃO WHILE E BREAK ###\n",
    "while True:\n",
    "    entrada=(int(input(\"Digite um valor: \")))\n",
    "\n",
    "    if(entrada == 0):\n",
    "        break\n",
    "    elif(entrada > 0):\n",
    "        positivoTotal += entrada\n",
    "    elif(entrada < 0):\n",
    "        print(\"Valores negativos não podem ser registrados. Digite um valor positivo.\")\n",
    "\n",
    "### PASSO 3 - IMPRIMIR RESULTADO ####\n",
    "print(f\"Produto: {positivoTotal}\")\n"
   ]
  },
  {
   "cell_type": "markdown",
   "id": "e932f3cf",
   "metadata": {},
   "source": [
    "### Q8.\n",
    "\n",
    "Vamos fazer uma calculadora que aceita expressões aritméticas de qualquer tamanho até que o usuário digite a palavra \"Fim\". Sua calculadora executa apenas as operações \"+\", \"-\".\n",
    "\n",
    "```\n",
    "Entrada:\n",
    "5\n",
    "+\n",
    "8\n",
    "-\n",
    "3\n",
    "+\n",
    "2\n",
    "Fim\n",
    "\n",
    "Saída:\n",
    "12\n",
    "```"
   ]
  },
  {
   "cell_type": "code",
   "execution_count": null,
   "id": "e835d870",
   "metadata": {},
   "outputs": [],
   "source": [
    "## Escreva e execute seu código aqui\n",
    "### PASSO 1- VARIÁVEIS  PARA GUARDAR O RESULTADO ACUMULATIVO, TROCAR SINAIS E CONDICIONAL  ###\n",
    "resultado=0\n",
    "operador=\"+\"\n",
    "primeiro_valor=True\n",
    "\n",
    "\n",
    "### PASSO 2- LOGICA DAS CONDICIONAIS E ITERAÇÕES ###\n",
    "while True:\n",
    "    entrada = input(\"Digite um número, um operador (+ ou -) ou 'Fim' para terminar.\").strip() ### .strip() para evitar erros de digitação\n",
    "    \n",
    "    if(entrada.lower())==\"fim\": ### .lower() para evitar erros de digitação\n",
    "        break\n",
    "\n",
    "    if entrada == (\"+\") or entrada == (\"-\"):\n",
    "        operador = entrada\n",
    "    else:\n",
    "           if entrada.isnumeric() or (entrada[0] == '-' and entrada[1:].isnumeric()):  ### utilizando a mesma lógica do exercicio das cobaias\n",
    "            numero = int(entrada)\n",
    "            if primeiro_valor:\n",
    "                resultado = numero\n",
    "                primeiro_valor = False\n",
    "            else:\n",
    "                if operador == \"+\":\n",
    "                    resultado += numero\n",
    "                elif operador == \"-\":\n",
    "                    resultado -= numero\n",
    "           else:\n",
    "               print(\"Inválido. Digite um número, um operador (+ ou -) ou 'Fim' para terminar.\")\n",
    "### PASSO 3 - IMPRIMIR RESULTADOS ###\n",
    "print(\"Saída:\")\n",
    "print(resultado)"
   ]
  }
 ],
 "metadata": {
  "kernelspec": {
   "display_name": "Python 3 (ipykernel)",
   "language": "python",
   "name": "python3"
  },
  "language_info": {
   "codemirror_mode": {
    "name": "ipython",
    "version": 3
   },
   "file_extension": ".py",
   "mimetype": "text/x-python",
   "name": "python",
   "nbconvert_exporter": "python",
   "pygments_lexer": "ipython3",
   "version": "3.12.1"
  }
 },
 "nbformat": 4,
 "nbformat_minor": 5
}
